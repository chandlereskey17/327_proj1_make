{
  "nbformat": 4,
  "nbformat_minor": 0,
  "metadata": {
    "colab": {
      "name": "Untitled4.ipynb",
      "provenance": [],
      "authorship_tag": "ABX9TyOhy3+eIXWiI7MLAhsu5Scz",
      "include_colab_link": true
    },
    "kernelspec": {
      "name": "python3",
      "display_name": "Python 3"
    }
  },
  "cells": [
    {
      "cell_type": "markdown",
      "metadata": {
        "id": "view-in-github",
        "colab_type": "text"
      },
      "source": [
        "<a href=\"https://colab.research.google.com/github/chandlereskey17/327_proj1_make/blob/master/hw5.ipynb\" target=\"_parent\"><img src=\"https://colab.research.google.com/assets/colab-badge.svg\" alt=\"Open In Colab\"/></a>"
      ]
    },
    {
      "cell_type": "code",
      "metadata": {
        "id": "QRPJuIEjEtSM",
        "outputId": "725c466d-9d7d-4f73-ad98-46647324e4c0",
        "colab": {
          "base_uri": "https://localhost:8080/"
        }
      },
      "source": [
        "#q1\n",
        "\n",
        "\n",
        "import numpy as np\n",
        "import scipy.stats as stats\n",
        "\n",
        "I = 4\n",
        "J = 3\n",
        "MSTr = 2670\n",
        "MSE = 1095.4\n",
        "\n",
        "N = I * J\n",
        "k = I\n",
        "\n",
        "F = MSTr/MSE\n",
        "\n",
        "print(F)\n",
        "\n",
        "dof_total = N - 1\n",
        "dof_treatment = I - 1\n",
        "dof_error = dof_total-dof_treatment\n",
        "alpha = 0.05\n",
        "\n",
        "fdist = stats.f(dof_treatment, dof_error)\n",
        "fhigh = fdist.ppf(1-alpha)\n",
        "\n",
        "print(fhigh)"
      ],
      "execution_count": 5,
      "outputs": [
        {
          "output_type": "stream",
          "text": [
            "2.4374657659302534\n",
            "4.06618055135116\n"
          ],
          "name": "stdout"
        }
      ]
    },
    {
      "cell_type": "code",
      "metadata": {
        "id": "TsMtnCmfEunI",
        "outputId": "681178d1-117b-4c15-eff5-62296cd3cf40",
        "colab": {
          "base_uri": "https://localhost:8080/",
          "height": 1000
        }
      },
      "source": [
        "#q2\n",
        "\n",
        "groupA = np.array([655.5,788.3,734.3,721.4,679.1,699.4])\n",
        "groupB = np.array([789.2,772.5,786.9,686.1,732.1,774.8])\n",
        "groupC = np.array([737.1,639.0,696.3,671.7,717.2,727.1])\n",
        "groupD = np.array([535.1,628.7,542.4,559.0,586.9,520.0])\n",
        "\n",
        "a = 4\n",
        "n = 6\n",
        "\n",
        "idA = np.ones(n)\n",
        "idB = 2.0*np.ones(n)\n",
        "idC = 3.0*np.ones(n)\n",
        "idD = 4.0*np.ones(n)\n",
        "\n",
        "data = np.concatenate([groupA, groupB, groupC, groupD])\n",
        "id = np.concatenate([idA, idB, idC, idD])\n",
        "\n",
        "data2 = np.transpose(np.vstack((data, id)))\n",
        "\n",
        "print(data2)\n",
        "\n",
        "import pandas as pd\n",
        "\n",
        "df = pd.DataFrame(data2, columns=['value', 'treatment'])\n",
        "\n",
        "df.head(100)"
      ],
      "execution_count": 7,
      "outputs": [
        {
          "output_type": "stream",
          "text": [
            "[[655.5   1. ]\n",
            " [788.3   1. ]\n",
            " [734.3   1. ]\n",
            " [721.4   1. ]\n",
            " [679.1   1. ]\n",
            " [699.4   1. ]\n",
            " [789.2   2. ]\n",
            " [772.5   2. ]\n",
            " [786.9   2. ]\n",
            " [686.1   2. ]\n",
            " [732.1   2. ]\n",
            " [774.8   2. ]\n",
            " [737.1   3. ]\n",
            " [639.    3. ]\n",
            " [696.3   3. ]\n",
            " [671.7   3. ]\n",
            " [717.2   3. ]\n",
            " [727.1   3. ]\n",
            " [535.1   4. ]\n",
            " [628.7   4. ]\n",
            " [542.4   4. ]\n",
            " [559.    4. ]\n",
            " [586.9   4. ]\n",
            " [520.    4. ]]\n"
          ],
          "name": "stdout"
        },
        {
          "output_type": "execute_result",
          "data": {
            "text/html": [
              "<div>\n",
              "<style scoped>\n",
              "    .dataframe tbody tr th:only-of-type {\n",
              "        vertical-align: middle;\n",
              "    }\n",
              "\n",
              "    .dataframe tbody tr th {\n",
              "        vertical-align: top;\n",
              "    }\n",
              "\n",
              "    .dataframe thead th {\n",
              "        text-align: right;\n",
              "    }\n",
              "</style>\n",
              "<table border=\"1\" class=\"dataframe\">\n",
              "  <thead>\n",
              "    <tr style=\"text-align: right;\">\n",
              "      <th></th>\n",
              "      <th>value</th>\n",
              "      <th>treatment</th>\n",
              "    </tr>\n",
              "  </thead>\n",
              "  <tbody>\n",
              "    <tr>\n",
              "      <th>0</th>\n",
              "      <td>655.5</td>\n",
              "      <td>1.0</td>\n",
              "    </tr>\n",
              "    <tr>\n",
              "      <th>1</th>\n",
              "      <td>788.3</td>\n",
              "      <td>1.0</td>\n",
              "    </tr>\n",
              "    <tr>\n",
              "      <th>2</th>\n",
              "      <td>734.3</td>\n",
              "      <td>1.0</td>\n",
              "    </tr>\n",
              "    <tr>\n",
              "      <th>3</th>\n",
              "      <td>721.4</td>\n",
              "      <td>1.0</td>\n",
              "    </tr>\n",
              "    <tr>\n",
              "      <th>4</th>\n",
              "      <td>679.1</td>\n",
              "      <td>1.0</td>\n",
              "    </tr>\n",
              "    <tr>\n",
              "      <th>5</th>\n",
              "      <td>699.4</td>\n",
              "      <td>1.0</td>\n",
              "    </tr>\n",
              "    <tr>\n",
              "      <th>6</th>\n",
              "      <td>789.2</td>\n",
              "      <td>2.0</td>\n",
              "    </tr>\n",
              "    <tr>\n",
              "      <th>7</th>\n",
              "      <td>772.5</td>\n",
              "      <td>2.0</td>\n",
              "    </tr>\n",
              "    <tr>\n",
              "      <th>8</th>\n",
              "      <td>786.9</td>\n",
              "      <td>2.0</td>\n",
              "    </tr>\n",
              "    <tr>\n",
              "      <th>9</th>\n",
              "      <td>686.1</td>\n",
              "      <td>2.0</td>\n",
              "    </tr>\n",
              "    <tr>\n",
              "      <th>10</th>\n",
              "      <td>732.1</td>\n",
              "      <td>2.0</td>\n",
              "    </tr>\n",
              "    <tr>\n",
              "      <th>11</th>\n",
              "      <td>774.8</td>\n",
              "      <td>2.0</td>\n",
              "    </tr>\n",
              "    <tr>\n",
              "      <th>12</th>\n",
              "      <td>737.1</td>\n",
              "      <td>3.0</td>\n",
              "    </tr>\n",
              "    <tr>\n",
              "      <th>13</th>\n",
              "      <td>639.0</td>\n",
              "      <td>3.0</td>\n",
              "    </tr>\n",
              "    <tr>\n",
              "      <th>14</th>\n",
              "      <td>696.3</td>\n",
              "      <td>3.0</td>\n",
              "    </tr>\n",
              "    <tr>\n",
              "      <th>15</th>\n",
              "      <td>671.7</td>\n",
              "      <td>3.0</td>\n",
              "    </tr>\n",
              "    <tr>\n",
              "      <th>16</th>\n",
              "      <td>717.2</td>\n",
              "      <td>3.0</td>\n",
              "    </tr>\n",
              "    <tr>\n",
              "      <th>17</th>\n",
              "      <td>727.1</td>\n",
              "      <td>3.0</td>\n",
              "    </tr>\n",
              "    <tr>\n",
              "      <th>18</th>\n",
              "      <td>535.1</td>\n",
              "      <td>4.0</td>\n",
              "    </tr>\n",
              "    <tr>\n",
              "      <th>19</th>\n",
              "      <td>628.7</td>\n",
              "      <td>4.0</td>\n",
              "    </tr>\n",
              "    <tr>\n",
              "      <th>20</th>\n",
              "      <td>542.4</td>\n",
              "      <td>4.0</td>\n",
              "    </tr>\n",
              "    <tr>\n",
              "      <th>21</th>\n",
              "      <td>559.0</td>\n",
              "      <td>4.0</td>\n",
              "    </tr>\n",
              "    <tr>\n",
              "      <th>22</th>\n",
              "      <td>586.9</td>\n",
              "      <td>4.0</td>\n",
              "    </tr>\n",
              "    <tr>\n",
              "      <th>23</th>\n",
              "      <td>520.0</td>\n",
              "      <td>4.0</td>\n",
              "    </tr>\n",
              "  </tbody>\n",
              "</table>\n",
              "</div>"
            ],
            "text/plain": [
              "    value  treatment\n",
              "0   655.5        1.0\n",
              "1   788.3        1.0\n",
              "2   734.3        1.0\n",
              "3   721.4        1.0\n",
              "4   679.1        1.0\n",
              "5   699.4        1.0\n",
              "6   789.2        2.0\n",
              "7   772.5        2.0\n",
              "8   786.9        2.0\n",
              "9   686.1        2.0\n",
              "10  732.1        2.0\n",
              "11  774.8        2.0\n",
              "12  737.1        3.0\n",
              "13  639.0        3.0\n",
              "14  696.3        3.0\n",
              "15  671.7        3.0\n",
              "16  717.2        3.0\n",
              "17  727.1        3.0\n",
              "18  535.1        4.0\n",
              "19  628.7        4.0\n",
              "20  542.4        4.0\n",
              "21  559.0        4.0\n",
              "22  586.9        4.0\n",
              "23  520.0        4.0"
            ]
          },
          "metadata": {
            "tags": []
          },
          "execution_count": 7
        }
      ]
    },
    {
      "cell_type": "code",
      "metadata": {
        "id": "_YKLiYNVEuuS",
        "outputId": "f4c94602-8e3a-4e27-9ef0-d6326d288b01",
        "colab": {
          "base_uri": "https://localhost:8080/"
        }
      },
      "source": [
        "#Q3\n",
        "a = 3\n",
        "n = 10\n",
        "\n",
        "N = a*n\n",
        "dof_total = N-1\n",
        "dof_treatment = a - 1\n",
        "dof_error = dof_total - dof_treatment\n",
        "\n",
        "SS_treatment = 591.7\n",
        "SS_error = 4775.9\n",
        "\n",
        "MS_treatment = SS_treatment/dof_treatment\n",
        "MS_error = SS_error/dof_error\n",
        "\n",
        "fSN = MS_treatment/MS_error\n",
        "\n",
        "print(\"F = \", fSN)\n",
        "\n",
        "alpha = 0.05\n",
        "\n",
        "fdist = stats.f(dof_treatment, dof_error)\n",
        "fhigh = fdist.ppf(1-alpha)\n",
        "\n",
        "print(fhigh)"
      ],
      "execution_count": 9,
      "outputs": [
        {
          "output_type": "stream",
          "text": [
            "F =  1.6725538641931366\n",
            "3.3541308285291986\n"
          ],
          "name": "stdout"
        }
      ]
    },
    {
      "cell_type": "code",
      "metadata": {
        "id": "wcDY4-VBEuyI",
        "outputId": "dd91753a-0720-48d7-918f-12667c6ce2bb",
        "colab": {
          "base_uri": "https://localhost:8080/"
        }
      },
      "source": [
        "#Q4\n",
        "import numpy as np\n",
        "import scipy.stats as stats\n",
        "\n",
        "\n",
        "a = 4\n",
        "n = 8\n",
        "\n",
        "N = a*n\n",
        "dof_total = N-1\n",
        "dof_treatment = a - 1\n",
        "dof_error = dof_total - dof_treatment\n",
        "\n",
        "xbar = np.array([4.35, 4.85, 5.20, 6.20])\n",
        "xbarbar = xbar.mean()\n",
        "\n",
        "SS_treatment = 0.0\n",
        "for x in xbar:\n",
        "  SS_treatment += n * (x - xbarbar)**2\n",
        "\n",
        "sumxij2 = 1011.86\n",
        "SS_total = sumxij2 - N * xbarbar**2\n",
        "SS_error = SS_total - SS_treatment\n",
        "\n",
        "MS_treatment = SS_treatment/dof_treatment\n",
        "MS_error = SS_error/dof_error\n",
        "\n",
        "fSN = MS_treatment/MS_error\n",
        "\n",
        "print(\"F = \", fSN)\n",
        "\n",
        "alpha = 0.05\n",
        "\n",
        "fdist = stats.f(dof_treatment, dof_error)\n",
        "fhigh = fdist.ppf(1-alpha)\n",
        "\n",
        "print(fhigh)"
      ],
      "execution_count": 6,
      "outputs": [
        {
          "output_type": "stream",
          "text": [
            "F =  0.9228973011810134\n",
            "2.9466852660172655\n"
          ],
          "name": "stdout"
        }
      ]
    },
    {
      "cell_type": "code",
      "metadata": {
        "id": "H_CD27ZQEu1v",
        "outputId": "9e0cd237-5a9e-4186-8f8f-05b62123e758",
        "colab": {
          "base_uri": "https://localhost:8080/"
        }
      },
      "source": [
        "#Q5\n",
        "\n",
        "a = 4\n",
        "n = 8\n",
        "\n",
        "N = a*n\n",
        "dof_total = N-1\n",
        "dof_treatment = a - 1\n",
        "dof_error = dof_total - dof_treatment\n",
        "group1 = np.array([20.4, 28.1, 27.8, 27.0, 27.8, 25.2, 25.3, 27.1, 20.5, 32.0])\n",
        "group2 = np.array([26.4,24.0,26.2,20.2,23.6,34.0,17.1,26.8,23.7,25.1])\n",
        "group3 = np.array([30.2,34.0,27.5,29.4,27.9,26.2,29.9,29.5,30.0,36.0])\n",
        "group4 = np.array([37.0,44.2,34.1,30.3,31.7,33.1,34.1,32.9,36.3,25.3])\n",
        "xbar = np.array([group1.mean(),group2.mean(),group3.mean(),group4.mean()])\n",
        "xbarbar = xbar.mean()\n",
        "\n",
        "SS_treatment = 0.0\n",
        "sumxij2 = 0.0\n",
        "for x in xbar:\n",
        "  SS_treatment += n * (x - xbarbar)**2\n",
        "\n",
        "print(SS_treatment)\n",
        "\n",
        "\n",
        "SS_total = sumxij2 - N * xbarbar**2\n",
        "SS_error = SS_total - SS_treatment\n",
        "\n",
        "print(SS_error, SS_total)\n",
        "\n",
        "MS_treatment = SS_treatment/dof_treatment\n",
        "MS_error = SS_error/dof_error\n",
        "\n",
        "print(MS_treatment, MS_error)\n",
        "\n",
        "fSN = MS_treatment/MS_error\n",
        "\n",
        "alpha = 0.01\n",
        "\n",
        "fdist = stats.f(dof_treatment, dof_error)\n",
        "fhigh = fdist.ppf(1-alpha)\n",
        "\n",
        "print(fhigh)"
      ],
      "execution_count": 13,
      "outputs": [
        {
          "output_type": "stream",
          "text": [
            "411.7286000000006\n",
            "-26765.216800000006 -26353.488200000003\n",
            "137.24286666666686 -955.9006000000002\n",
            "2.9466852660172655\n"
          ],
          "name": "stdout"
        }
      ]
    },
    {
      "cell_type": "code",
      "metadata": {
        "id": "bAyYDIrNEu5W"
      },
      "source": [
        "#Q6"
      ],
      "execution_count": null,
      "outputs": []
    },
    {
      "cell_type": "code",
      "metadata": {
        "id": "_mMcnmGbEu8t"
      },
      "source": [
        "#Q7"
      ],
      "execution_count": null,
      "outputs": []
    },
    {
      "cell_type": "code",
      "metadata": {
        "id": "s8pOyd2bEvAG"
      },
      "source": [
        "#Q8"
      ],
      "execution_count": null,
      "outputs": []
    },
    {
      "cell_type": "code",
      "metadata": {
        "id": "K6OKO6RLEvGw"
      },
      "source": [
        "\n",
        "# Tukey's Procedure\n",
        "#\n",
        "# Step 1:  Calculate the standard error = sqrt(MS_error/n)\n",
        "\n",
        "from q_tukey import q_tukey\n",
        "\n",
        "std_error = np.sqrt(MS_error/n)\n",
        "print (\"Standard Error = %0.3f\" % std_error)\n",
        "\n",
        "# Step 2:  Order the means from smallest to largest\n",
        "\n",
        "print (\"Original Xbar = \",xbar)\n",
        "xbar_orig = xbar.copy()\n",
        "xbar.sort()\n",
        "print (\"Sorted Xbar = \",xbar)\n",
        "\n",
        "# Step 3:  Get the expected number of error bars (sem) between largest and smallest, for the number\n",
        "# of means to be compared (a).  For this, we need the studentized range table values q(alpha,dof_error,k) for k=2..a.\n",
        "# \n",
        "# http://www.real-statistics.com/statistics-tables/studentized-range-q-table/\n",
        "# For this problem, dof_error = 15, alpha = 0.05, k = 2,3,4,5\n",
        "# q = np.array([3.014,3.673,4.076,4.367])\n",
        "\n",
        "n_means=len(xbar)\n",
        "q = q_tukey(n_means,dof_error,alpha)\n",
        "print (q)\n",
        "\n",
        "# Step 4:  Calculate W = q(k=5)*std_error\n",
        "\n",
        "W = q[n_means-2]*std_error\n",
        "\n",
        "print (\"W = %0.1f\" % W)\n",
        "\n",
        "# Step 5:  Make pair-wise comparisons\n",
        "\n",
        "print (list(xbar_orig))\n",
        "\n",
        "print (\"i j xbar1 xbar2 Diff Diff_comp Result\")\n",
        "for i in range(len(xbar)):\n",
        "    for j in range(len(xbar)):\n",
        "        if (xbar[j] > xbar[i]):\n",
        "            diff = (xbar[j] - xbar[i])/std_error\n",
        "            diff_comp = q[j-i-1]\n",
        "            if (diff>diff_comp):\n",
        "                Result = \"Yes\"\n",
        "            else:\n",
        "                Result = \"No\"\n",
        "            iorig = list(xbar_orig).index(xbar[i])+1\n",
        "            jorig = list(xbar_orig).index(xbar[j])+1\n",
        "            print (\"%0.0f %0.0f %0.1f %0.1f %0.3f  %0.3f %s\" % (iorig,jorig,xbar[i],xbar[j],diff,diff_comp,Result))"
      ],
      "execution_count": null,
      "outputs": []
    },
    {
      "cell_type": "code",
      "metadata": {
        "id": "jzv4I5lHEvKN",
        "outputId": "0f9d1d38-5a0f-44ff-808b-ec6bfc2bea00",
        "colab": {
          "base_uri": "https://localhost:8080/"
        }
      },
      "source": [
        "a = 4\n",
        "n = 8\n",
        "\n",
        "N = a*n\n",
        "dof_total = N-1\n",
        "dof_treatment = a - 1\n",
        "dof_error = dof_total - dof_treatment\n",
        "\n",
        "xbar = np.array([4.39, 4.52, 5.49, 6.36])\n",
        "xbarbar = xbar.mean()\n",
        "\n",
        "SS_treatment = 0.0\n",
        "for x in xbar:\n",
        "  SS_treatment += n * (x - xbarbar)**2\n",
        "\n",
        "sumxij2 = 911.91\n",
        "SS_total = sumxij2 - N * xbarbar**2\n",
        "SS_error = SS_total - SS_treatment\n",
        "\n",
        "MS_treatment = SS_treatment/dof_treatment\n",
        "MS_error = SS_error/dof_error\n",
        "\n",
        "fSN = MS_treatment/MS_error\n",
        "\n",
        "print(\"F = \", fSN)\n",
        "\n",
        "alpha = 0.05\n",
        "\n",
        "fdist = stats.f(dof_treatment, dof_error)\n",
        "fhigh = fdist.ppf(1-alpha)\n",
        "\n",
        "print(fhigh)"
      ],
      "execution_count": 10,
      "outputs": [
        {
          "output_type": "stream",
          "text": [
            "F =  6.4328811098637395\n",
            "2.9466852660172655\n"
          ],
          "name": "stdout"
        }
      ]
    },
    {
      "cell_type": "code",
      "metadata": {
        "id": "9cAG1_9YEvNm"
      },
      "source": [
        ""
      ],
      "execution_count": null,
      "outputs": []
    }
  ]
}