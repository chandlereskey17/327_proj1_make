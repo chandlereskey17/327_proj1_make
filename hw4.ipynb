{
  "nbformat": 4,
  "nbformat_minor": 0,
  "metadata": {
    "colab": {
      "name": "Untitled3.ipynb",
      "provenance": [],
      "authorship_tag": "ABX9TyN1Bz53ppubGjuMVllynEIq",
      "include_colab_link": true
    },
    "kernelspec": {
      "name": "python3",
      "display_name": "Python 3"
    }
  },
  "cells": [
    {
      "cell_type": "markdown",
      "metadata": {
        "id": "view-in-github",
        "colab_type": "text"
      },
      "source": [
        "<a href=\"https://colab.research.google.com/github/chandlereskey17/327_proj1_make/blob/master/hw4.ipynb\" target=\"_parent\"><img src=\"https://colab.research.google.com/assets/colab-badge.svg\" alt=\"Open In Colab\"/></a>"
      ]
    },
    {
      "cell_type": "code",
      "metadata": {
        "id": "ZSE8S2izgstP"
      },
      "source": [
        "#Q1\n",
        "\n",
        "import numpy as np \n",
        "import scipy.stats as stats import matplotlib.pyplot as plt\n",
        "\n",
        "def sem_neq(n1, n2, s1, s2):\n",
        "  sm = np.sqrt(s1**2/n1*s2**2/n2)\n",
        "  return float(sm)\n",
        "\n",
        "def ndof_neq(n1, n2, s1, s2):\n",
        "  v1 = s1**2/n1\n",
        "  v2 = s2**2/n2\n",
        "  dof = (v1*v2)**2/(v1**2/(n1-1)+v2**2/(n2-1))\n",
        "  return int(dof)\n",
        "\n",
        "def sem_eq(n1, n2, s1, s2):\n",
        "  sp = np.sqrt(((n1-1)*s1**2+(n2-1)*s2**2)/(n1*n2-2))\n",
        "  sm = sp*np.sqrt(1.0/n1+1.0/n2)\n",
        "  return float(sm)\n",
        "\n",
        "def ndof_eq(n1, n2, s1, s2):\n",
        "  dof = n2*n1-2\n",
        "  return int(dof)"
      ],
      "execution_count": null,
      "outputs": []
    },
    {
      "cell_type": "code",
      "metadata": {
        "id": "G1jhdFkngvRP"
      },
      "source": [
        "#Q1"
      ],
      "execution_count": null,
      "outputs": []
    },
    {
      "cell_type": "code",
      "metadata": {
        "id": "8-flFgWsgvYL"
      },
      "source": [
        "#Q2\n",
        "\n",
        "\n",
        "import numpy as np\n",
        "import scipy.stats as stats\n",
        "import matplotlib.pyplot as plt\n",
        "\n",
        "def sem_neq(n1,n2,s1,s2):\n",
        "    sm = np.sqrt(s1**2/n1+s2**2/n2)\n",
        "    return float(sm)\n",
        "\n",
        "def ndof_neq(n1,n2,s1,s2):\n",
        "    v1 = s1**2/n1\n",
        "    v2 = s2**2/n2\n",
        "    dof = (v1+v2)**2/(v1**2/(n1-1)+v2**2/(n2-1))\n",
        "    return int(dof)\n",
        "\n",
        "def sem_eq(n1,n2,s1,s2):\n",
        "    sp = np.sqrt(((n1-1)*s1**2+(n2-1)*s2**2)/(n1+n2-2))\n",
        "    sm = sp*np.sqrt(1.0/n1+1.0/n2)\n",
        "    return float(sm)\n",
        "\n",
        "def ndof_eq(n1,n2,s1,s2):\n",
        "    dof = n2+n1-2\n",
        "    return int(dof)\n",
        "    \n",
        "n1 = 6\n",
        "n2 = 5\n",
        "s1 = 0.156\n",
        "s2 = 0.234\n",
        "\n",
        "xbar1 = 22.27\n",
        "xbar2 = 20.22\n",
        "\n",
        "df = ndof_new(n1, n2, s1, s2)\n",
        "sm = sem_neq(n1, n2, s1, s2)\n",
        "\n",
        "tvalue = (xbar1 - xbar2)/sm\n",
        "\n",
        "print (\"DF, T= \", df, tvalue)\n",
        "\n",
        "tdist = stats.t(df)\n",
        "\n",
        "pvalue = 2.0*tdist.cdf(-np.abs(tvalue))\n",
        "print(\"P-value = \", pvalue)\n",
        "print(\"Reject null hypothesis!\")\n"
      ],
      "execution_count": null,
      "outputs": []
    },
    {
      "cell_type": "code",
      "metadata": {
        "id": "YljYSA2-gvdI"
      },
      "source": [
        "#Q3\n",
        "\n",
        "n1 = 8\n",
        "n2 = 12\n",
        "s1 = 0.49\n",
        "s2 = 0.85\n",
        "\n",
        "xbar1 = 1.8\n",
        "xbar2 = 2.52\n",
        "\n",
        "df = ndof_new(n1, n2, s1, s2)\n",
        "sm = sem_neq(n1, n2, s1, s2)\n",
        "\n",
        "tvalue = (xbar1 - xbar2)/sm\n",
        "\n",
        "print (\"DF, T= \", df, tvalue)\n",
        "\n",
        "tdist = stats.t(df)\n",
        "pvalue = tdist.cdf(-np.abs(tvalue))\n",
        "\n",
        "tcritical = tdist.ppf(1-alpha)\n",
        "\n",
        "print(\"pvalue = \", pvalue)\n",
        "print(\"tcritical = \", tcritical)\n",
        "\n",
        "if (pvalue < alpha):\n",
        "  print(\"reject null hypothesis... pvalue is less than alpha\")\n",
        "else:\n",
        "  print(\"fail to reject null hyp. ... pvalue is greater than alpha\")"
      ],
      "execution_count": null,
      "outputs": []
    },
    {
      "cell_type": "code",
      "metadata": {
        "id": "W5ejuR05gvhR",
        "outputId": "f1b464f1-dc1c-4e96-87bc-86753b7bad51",
        "colab": {
          "base_uri": "https://localhost:8080/",
          "height": 153
        }
      },
      "source": [
        "#Q4\n",
        "\n",
        "n1 = 12\n",
        "n2 = 12\n",
        "s1 = 1.43\n",
        "s2 = 4.15\n",
        "\n",
        "xbar1 = 18.94\n",
        "xbar2 = 23.97\n",
        "\n",
        "alpha = 0.05\n",
        "\n",
        "df = ndof_neq(n1, n2, s1, s2)\n",
        "sm = sem_neq(n1, n2, s1, s2)\n",
        "\n",
        "tvalue = (xbar1 - xbar2)/sm\n",
        "\n",
        "print(\"Unequal variances:\")\n",
        "print (\"DF, T= \", df, tvalue)\n",
        "\n",
        "tdist = stats.t(df)\n",
        "pvalue = 2*tdist.cdf(-np.abs(tvalue))\n",
        "\n",
        "tlow = tdist.ppf(alpha/2)\n",
        "thigh = tdist.ppf(1-alpha/2)\n",
        "\n",
        "print(\"pvalue = \", pvalue)\n",
        "print(\"tcritical = \", thigh, tlow)\n",
        "\n",
        "if (pvalue < alpha):\n",
        "  print(\"reject null hypothesis... pvalue is less than alpha\")\n",
        "else:\n",
        "  print(\"fail to reject null hyp. ... pvalue is greater than alpha\")\n",
        "\n",
        "\n",
        "print()\n",
        "print(\"Python stats package result (unequal variances):\")\n",
        "t, pVal = stats.ttest_ind_from_stats(xbar1, s1, n1, xbar2, s2, n2, equal_var=False)\n",
        "print(\"t-value = \", t, pVal)"
      ],
      "execution_count": 10,
      "outputs": [
        {
          "output_type": "stream",
          "text": [
            "Unequal variances:\n",
            "DF, T=  13 -3.9696027817594794\n",
            "pvalue =  0.0016012166745239078\n",
            "tcritical =  2.1603686564610127 -2.160368656461013\n",
            "reject null hypothesis... pvalue is less than alpha\n",
            "\n",
            "Python stats package result (unequal variances):\n",
            "t-value =  -3.9696027817594794 0.0014778918647763437\n"
          ],
          "name": "stdout"
        }
      ]
    },
    {
      "cell_type": "code",
      "metadata": {
        "id": "U6l2rUbpgvlc",
        "outputId": "fed83bbe-b8a7-4288-d9d6-18ba417ae44f",
        "colab": {
          "base_uri": "https://localhost:8080/",
          "height": 153
        }
      },
      "source": [
        "#Q5\n",
        "\n",
        "import numpy as np\n",
        "import scipy.stats as stats\n",
        "import matplotlib.pyplot as plt\n",
        "\n",
        "def sem_neq(n1,n2,s1,s2):\n",
        "    sm = np.sqrt(s1**2/n1+s2**2/n2)\n",
        "    return float(sm)\n",
        "\n",
        "def ndof_neq(n1,n2,s1,s2):\n",
        "    v1 = s1**2/n1\n",
        "    v2 = s2**2/n2\n",
        "    dof = (v1+v2)**2/(v1**2/(n1-1)+v2**2/(n2-1))\n",
        "    return int(dof)\n",
        "\n",
        "def sem_eq(n1,n2,s1,s2):\n",
        "    sp = np.sqrt(((n1-1)*s1**2+(n2-1)*s2**2)/(n1+n2-2))\n",
        "    sm = sp*np.sqrt(1.0/n1+1.0/n2)\n",
        "    return float(sm)\n",
        "\n",
        "def ndof_eq(n1,n2,s1,s2):\n",
        "    dof = n2+n1-2\n",
        "    return int(dof)\n",
        "\n",
        "dataU = [33.4,  \n",
        "  55.0,  \n",
        "  57.9,  \n",
        "  38.7,  \n",
        "  42.2,  \n",
        "  48.8,  \n",
        "  24.4,  \n",
        "  49.8]\n",
        "\n",
        "dataA = [20.1,  \n",
        "  20.0,  \n",
        "  44.7,  \n",
        "  34.5,  \n",
        "  32.6,  \n",
        "  52.5,  \n",
        "  22.2,  \n",
        "  46.5]\n",
        "\n",
        "n1 = len(dataU)\n",
        "n2 = len(dataA)\n",
        "s1 = 11.32845973643372\n",
        "s2 = 12.78111888685807\n",
        "\n",
        "xbar1 = sum(dataU)/n1\n",
        "xbar2 = sum(dataA)/n2\n",
        "\n",
        "alpha = 0.05\n",
        "\n",
        "df = ndof_neq(n1, n2, s1, s2)\n",
        "sm = sem_neq(n1, n2, s1, s2)\n",
        "\n",
        "tvalue = (xbar1 - xbar2)/sm\n",
        "\n",
        "print(\"Unequal variances:\")\n",
        "print (\"DF, T= \", df, tvalue)\n",
        "\n",
        "tdist = stats.t(df)\n",
        "pvalue = 2*tdist.cdf(-np.abs(tvalue))\n",
        "\n",
        "tlow = tdist.ppf(alpha/2)\n",
        "thigh = tdist.ppf(1-alpha/2)\n",
        "\n",
        "print(\"pvalue = \", pvalue)\n",
        "print(\"tcritical = \", thigh, tlow)\n",
        "\n",
        "if (pvalue < alpha):\n",
        "  print(\"reject null hypothesis... pvalue is less than alpha\")\n",
        "else:\n",
        "  print(\"fail to reject null hyp. ... pvalue is greater than alpha\")\n",
        "\n",
        "\n",
        "print()\n",
        "print(\"Python stats package result (unequal variances):\")\n",
        "t, pVal = stats.ttest_ind_from_stats(xbar1, s1, n1, xbar2, s2, n2, equal_var=False)\n",
        "print(\"t-value = \", t, pVal)"
      ],
      "execution_count": 6,
      "outputs": [
        {
          "output_type": "stream",
          "text": [
            "Unequal variances:\n",
            "DF, T=  13 1.5960550618505738\n",
            "pvalue =  0.13448912637902463\n",
            "tcritical =  2.1603686564610127 -2.160368656461013\n",
            "fail to reject null hyp. ... pvalue is greater than alpha\n",
            "\n",
            "Python stats package result (unequal variances):\n",
            "t-value =  1.5960550618505738 0.13311334684017517\n"
          ],
          "name": "stdout"
        }
      ]
    },
    {
      "cell_type": "code",
      "metadata": {
        "id": "5PX0YY9Bgvpt"
      },
      "source": [
        "#Q6\n",
        "\n",
        "dataM = [10600, 16620, 17300, 15247, 12970, 17260, 13400, 13311, 13630, 13260, \n",
        "         14370, 11442, 15470, 17840, 14070, 14598]\n",
        "\n",
        "dataW = [9494, 13250, 14720, 12123, 10120, 14570, 11220, 11362, 11420, 10910, \n",
        "         12110, 8246, 12590, 15090, 10550, 12493]\n",
        "\n",
        "diff = [1106,3370,2580,3124,2850,2690,2180,1949,2210,2350,2260,3196,2880,2750,\n",
        "        3520,2105]\n",
        "avg_diff = sum(diff)/16\n",
        "\n",
        "sum = 0\n",
        "for i in range(16):\n",
        "  sum += (diff[i] - avg_diff)**2\n",
        "d_2 = sum/15\n",
        "d = np.sqrt(d_2)\n",
        "\n",
        "\n",
        "\n",
        "\n"
      ],
      "execution_count": null,
      "outputs": []
    },
    {
      "cell_type": "code",
      "metadata": {
        "id": "_YqrVpQRgvte"
      },
      "source": [
        "#Q7"
      ],
      "execution_count": null,
      "outputs": []
    },
    {
      "cell_type": "code",
      "metadata": {
        "id": "v8dlPx3VgvxY"
      },
      "source": [
        "#q8"
      ],
      "execution_count": null,
      "outputs": []
    },
    {
      "cell_type": "code",
      "metadata": {
        "id": "ygVHYUDGgwA4"
      },
      "source": [
        "#q9"
      ],
      "execution_count": null,
      "outputs": []
    }
  ]
}