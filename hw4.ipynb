{
  "nbformat": 4,
  "nbformat_minor": 0,
  "metadata": {
    "colab": {
      "name": "Untitled3.ipynb",
      "provenance": [],
      "authorship_tag": "ABX9TyOcC4r/YfYMjr+82Uaex0E0",
      "include_colab_link": true
    },
    "kernelspec": {
      "name": "python3",
      "display_name": "Python 3"
    }
  },
  "cells": [
    {
      "cell_type": "markdown",
      "metadata": {
        "id": "view-in-github",
        "colab_type": "text"
      },
      "source": [
        "<a href=\"https://colab.research.google.com/github/chandlereskey17/327_proj1_make/blob/master/hw4.ipynb\" target=\"_parent\"><img src=\"https://colab.research.google.com/assets/colab-badge.svg\" alt=\"Open In Colab\"/></a>"
      ]
    },
    {
      "cell_type": "code",
      "metadata": {
        "id": "ZSE8S2izgstP"
      },
      "source": [
        "#Q1\n",
        "\n",
        "import numpy as np \n",
        "import scipy.stats as stats import matplotlib.pyplot as plt\n",
        "\n",
        "def sem_neq(n1, n2, s1, s2):\n",
        "  sm = np.sqrt(s1**2/n1*s2**2/n2)\n",
        "  return float(sm)\n",
        "\n",
        "def ndof_neq(n1, n2, s1, s2):\n",
        "  v1 = s1**2/n1\n",
        "  v2 = s2**2/n2\n",
        "  dof = (v1*v2)**2/(v1**2/(n1-1)+v2**2/(n2-1))\n",
        "  return int(dof)\n",
        "\n",
        "def sem_eq(n1, n2, s1, s2):\n",
        "  sp = np.sqrt(((n1-1)*s1**2+(n2-1)*s2**2)/(n1*n2-2))\n",
        "  sm = sp*np.sqrt(1.0/n1+1.0/n2)\n",
        "  return float(sm)\n",
        "\n",
        "def ndof_eq(n1, n2, s1, s2):\n",
        "  dof = n2*n1-2\n",
        "  return int(dof)"
      ],
      "execution_count": null,
      "outputs": []
    },
    {
      "cell_type": "code",
      "metadata": {
        "id": "G1jhdFkngvRP"
      },
      "source": [
        "#Q1"
      ],
      "execution_count": null,
      "outputs": []
    },
    {
      "cell_type": "code",
      "metadata": {
        "id": "8-flFgWsgvYL"
      },
      "source": [
        "#Q2\n",
        "\n",
        "n1 = 6\n",
        "n2 = 5\n",
        "s1 = 0.156\n",
        "s2 = 0.234\n",
        "\n",
        "xbar1 = 22.27\n",
        "xbar2 = 20.22\n",
        "\n",
        "df = ndof_new(n1, n2, s1, s2)\n",
        "sm = sem_neq(n1, n2, s1, s2)\n",
        "\n",
        "tvalue = (xbar1 - xbar2)/sm\n",
        "\n",
        "print (\"DF, T= \", df, tvalue)\n",
        "\n",
        "tdist = stats.t(df)\n",
        "\n",
        "pvalue = 2.0*tdist.cdf(-np.abs(tvalue))\n",
        "print(\"P-value = \", pvalue)\n",
        "print(\"Reject null hypothesis!\")\n"
      ],
      "execution_count": null,
      "outputs": []
    },
    {
      "cell_type": "code",
      "metadata": {
        "id": "YljYSA2-gvdI"
      },
      "source": [
        "#Q3\n",
        "\n",
        "n1 = 8\n",
        "n2 = 12\n",
        "s1 = 0.49\n",
        "s2 = 0.85\n",
        "\n",
        "xbar1 = 1.8\n",
        "xbar2 = 2.52\n",
        "\n",
        "df = ndof_new(n1, n2, s1, s2)\n",
        "sm = sem_neq(n1, n2, s1, s2)\n",
        "\n",
        "tvalue = (xbar1 - xbar2)/sm\n",
        "\n",
        "print (\"DF, T= \", df, tvalue)\n",
        "\n",
        "tdist = stats.t(df)\n",
        "pvalue = tdist.cdf(-np.abs(tvalue))\n",
        "\n",
        "tcritical = tdist.ppf(1-alpha)\n",
        "\n",
        "print(\"pvalue = \", pvalue)\n",
        "print(\"tcritical = \", tcritical)\n",
        "\n",
        "if (pvalue < alpha):\n",
        "  print(\"reject null hypothesis... pvalue is less than alpha\")\n",
        "else:\n",
        "  print(\"fail to reject null hyp. ... pvalue is greater than alpha\")"
      ],
      "execution_count": null,
      "outputs": []
    },
    {
      "cell_type": "code",
      "metadata": {
        "id": "W5ejuR05gvhR"
      },
      "source": [
        "#Q4\n",
        "\n",
        "n1 = 12\n",
        "n2 = 12\n",
        "s1 = 1.48\n",
        "s2 = 4.01\n",
        "\n",
        "xbar1 = 18.23\n",
        "xbar2 = 23.47\n",
        "\n",
        "alpha = 0.05\n",
        "\n",
        "df = ndof_new(n1, n2, s1, s2)\n",
        "sm = sem_neq(n1, n2, s1, s2)\n",
        "\n",
        "tvalue = (xbar1 - xbar2)/sm\n",
        "\n",
        "print(\"Unequal variances:\")\n",
        "print (\"DF, T= \", df, tvalue)\n",
        "\n",
        "tdist = stats.t(df)\n",
        "pvalue = 2*tdist.cdf(-np.abs(tvalue))\n",
        "\n",
        "tlow = tdist.ppf(alpha/2)\n",
        "thigh = tdist.ppf(1-alpha/2)\n",
        "\n",
        "print(\"pvalue = \", pvalue)\n",
        "print(\"tcritical = \", thigh, tlow)\n",
        "\n",
        "if (pvalue < alpha):\n",
        "  print(\"reject null hypothesis... pvalue is less than alpha\")\n",
        "else:\n",
        "  print(\"fail to reject null hyp. ... pvalue is greater than alpha\")\n",
        "\n",
        "\n",
        "print()\n",
        "print(\"Python stats package result (unequal variances):\")\n",
        "t, pVal = stats.ttest_ind_from_stats(xbar1, s1, n1, xbar2, s2, n2, qual_var=False)\n",
        "print(\"t-value = \", t, pVal)"
      ],
      "execution_count": null,
      "outputs": []
    },
    {
      "cell_type": "code",
      "metadata": {
        "id": "U6l2rUbpgvlc"
      },
      "source": [
        "#Q5"
      ],
      "execution_count": null,
      "outputs": []
    },
    {
      "cell_type": "code",
      "metadata": {
        "id": "5PX0YY9Bgvpt"
      },
      "source": [
        "#Q6"
      ],
      "execution_count": null,
      "outputs": []
    },
    {
      "cell_type": "code",
      "metadata": {
        "id": "_YqrVpQRgvte"
      },
      "source": [
        "#Q7"
      ],
      "execution_count": null,
      "outputs": []
    },
    {
      "cell_type": "code",
      "metadata": {
        "id": "v8dlPx3VgvxY"
      },
      "source": [
        "#q8"
      ],
      "execution_count": null,
      "outputs": []
    },
    {
      "cell_type": "code",
      "metadata": {
        "id": "ygVHYUDGgwA4"
      },
      "source": [
        "#q9"
      ],
      "execution_count": null,
      "outputs": []
    },
    {
      "cell_type": "code",
      "metadata": {
        "id": "JlQO5TjxgwDi"
      },
      "source": [
        "#q10"
      ],
      "execution_count": null,
      "outputs": []
    }
  ]
}