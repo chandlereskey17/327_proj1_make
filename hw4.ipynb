{
  "nbformat": 4,
  "nbformat_minor": 0,
  "metadata": {
    "colab": {
      "name": "Untitled3.ipynb",
      "provenance": [],
      "authorship_tag": "ABX9TyOrsIhbgy1fpn8StZU/YvwE",
      "include_colab_link": true
    },
    "kernelspec": {
      "name": "python3",
      "display_name": "Python 3"
    }
  },
  "cells": [
    {
      "cell_type": "markdown",
      "metadata": {
        "id": "view-in-github",
        "colab_type": "text"
      },
      "source": [
        "<a href=\"https://colab.research.google.com/github/chandlereskey17/327_proj1_make/blob/master/hw4.ipynb\" target=\"_parent\"><img src=\"https://colab.research.google.com/assets/colab-badge.svg\" alt=\"Open In Colab\"/></a>"
      ]
    },
    {
      "cell_type": "code",
      "metadata": {
        "id": "ZSE8S2izgstP"
      },
      "source": [
        "#Q1\n",
        "\n",
        "import numpy as np \n",
        "import scipy.stats as stats import matplotlib.pyplot as plt\n",
        "\n",
        "def sem_neq(n1, n2, s1, s2):\n",
        "  sm = np.sqrt(s1**2/n1*s2**2/n2)\n",
        "  return float(sm)\n",
        "\n",
        "def ndof_neq(n1, n2, s1, s2):\n",
        "  v1 = s1**2/n1\n",
        "  v2 = s2**2/n2\n",
        "  dof = (v1*v2)**2/(v1**2/(n1-1)+v2**2/(n2-1))\n",
        "  return int(dof)\n",
        "\n",
        "def sem_eq(n1, n2, s1, s2):\n",
        "  sp = np.sqrt(((n1-1)*s1**2+(n2-1)*s2**2)/(n1*n2-2))\n",
        "  sm = sp*np.sqrt(1.0/n1+1.0/n2)\n",
        "  return float(sm)\n",
        "\n",
        "def ndof_eq(n1, n2, s1, s2):\n",
        "  dof = n2*n1-2\n",
        "  return int(dof)"
      ],
      "execution_count": null,
      "outputs": []
    },
    {
      "cell_type": "code",
      "metadata": {
        "id": "G1jhdFkngvRP"
      },
      "source": [
        "#Q1"
      ],
      "execution_count": null,
      "outputs": []
    },
    {
      "cell_type": "code",
      "metadata": {
        "id": "8-flFgWsgvYL"
      },
      "source": [
        "#Q2\n",
        "\n",
        "\n",
        "import numpy as np\n",
        "import scipy.stats as stats\n",
        "import matplotlib.pyplot as plt\n",
        "\n",
        "def sem_neq(n1,n2,s1,s2):\n",
        "    sm = np.sqrt(s1**2/n1+s2**2/n2)\n",
        "    return float(sm)\n",
        "\n",
        "def ndof_neq(n1,n2,s1,s2):\n",
        "    v1 = s1**2/n1\n",
        "    v2 = s2**2/n2\n",
        "    dof = (v1+v2)**2/(v1**2/(n1-1)+v2**2/(n2-1))\n",
        "    return int(dof)\n",
        "\n",
        "def sem_eq(n1,n2,s1,s2):\n",
        "    sp = np.sqrt(((n1-1)*s1**2+(n2-1)*s2**2)/(n1+n2-2))\n",
        "    sm = sp*np.sqrt(1.0/n1+1.0/n2)\n",
        "    return float(sm)\n",
        "\n",
        "def ndof_eq(n1,n2,s1,s2):\n",
        "    dof = n2+n1-2\n",
        "    return int(dof)\n",
        "    \n",
        "n1 = 6\n",
        "n2 = 5\n",
        "s1 = 0.156\n",
        "s2 = 0.234\n",
        "\n",
        "xbar1 = 22.27\n",
        "xbar2 = 20.22\n",
        "\n",
        "df = ndof_new(n1, n2, s1, s2)\n",
        "sm = sem_neq(n1, n2, s1, s2)\n",
        "\n",
        "tvalue = (xbar1 - xbar2)/sm\n",
        "\n",
        "print (\"DF, T= \", df, tvalue)\n",
        "\n",
        "tdist = stats.t(df)\n",
        "\n",
        "pvalue = 2.0*tdist.cdf(-np.abs(tvalue))\n",
        "print(\"P-value = \", pvalue)\n",
        "print(\"Reject null hypothesis!\")\n"
      ],
      "execution_count": null,
      "outputs": []
    },
    {
      "cell_type": "code",
      "metadata": {
        "id": "YljYSA2-gvdI",
        "outputId": "52bed524-6093-4668-de04-67383e9b875f",
        "colab": {
          "base_uri": "https://localhost:8080/",
          "height": 85
        }
      },
      "source": [
        "#Q3\n",
        "\n",
        "import numpy as np\n",
        "import scipy.stats as stats\n",
        "import matplotlib.pyplot as plt\n",
        "\n",
        "def sem_neq(n1,n2,s1,s2):\n",
        "    sm = np.sqrt(s1**2/n1+s2**2/n2)\n",
        "    return float(sm)\n",
        "\n",
        "def ndof_neq(n1,n2,s1,s2):\n",
        "    v1 = s1**2/n1\n",
        "    v2 = s2**2/n2\n",
        "    dof = (v1+v2)**2/(v1**2/(n1-1)+v2**2/(n2-1))\n",
        "    return int(dof)\n",
        "\n",
        "def sem_eq(n1,n2,s1,s2):\n",
        "    sp = np.sqrt(((n1-1)*s1**2+(n2-1)*s2**2)/(n1+n2-2))\n",
        "    sm = sp*np.sqrt(1.0/n1+1.0/n2)\n",
        "    return float(sm)\n",
        "\n",
        "def ndof_eq(n1,n2,s1,s2):\n",
        "    dof = n2+n1-2\n",
        "    return int(dof)\n",
        "\n",
        "n1 = 7\n",
        "n2 = 9\n",
        "s1 = 0.54\n",
        "s2 = 0.92\n",
        "\n",
        "xbar1 = 1.73\n",
        "xbar2 = 2.6\n",
        "\n",
        "df = ndof_neq(n1, n2, s1, s2)\n",
        "sm = sem_neq(n1, n2, s1, s2)\n",
        "\n",
        "alpha = 0.01\n",
        "\n",
        "tvalue = (xbar1 - xbar2)/sm\n",
        "\n",
        "print (\"DF, T= \", df, tvalue)\n",
        "\n",
        "tdist = stats.t(df)\n",
        "pvalue = tdist.cdf(-np.abs(tvalue))\n",
        "\n",
        "tcritical = tdist.ppf(1-alpha)\n",
        "\n",
        "print(\"pvalue = \", pvalue)\n",
        "print(\"tcritical = \", tcritical)\n",
        "\n",
        "if (pvalue < alpha):\n",
        "  print(\"reject null hypothesis... pvalue is less than alpha\")\n",
        "else:\n",
        "  print(\"fail to reject null hyp. ... pvalue is greater than alpha\")"
      ],
      "execution_count": 4,
      "outputs": [
        {
          "output_type": "stream",
          "text": [
            "DF, T=  13 -2.361711198030713\n",
            "pvalue =  0.017232533442985514\n",
            "tcritical =  2.6503088378527013\n",
            "fail to reject null hyp. ... pvalue is greater than alpha\n"
          ],
          "name": "stdout"
        }
      ]
    },
    {
      "cell_type": "code",
      "metadata": {
        "id": "W5ejuR05gvhR",
        "outputId": "f1b464f1-dc1c-4e96-87bc-86753b7bad51",
        "colab": {
          "base_uri": "https://localhost:8080/",
          "height": 153
        }
      },
      "source": [
        "#Q4\n",
        "\n",
        "n1 = 12\n",
        "n2 = 12\n",
        "s1 = 1.43\n",
        "s2 = 4.15\n",
        "\n",
        "xbar1 = 18.94\n",
        "xbar2 = 23.97\n",
        "\n",
        "alpha = 0.05\n",
        "\n",
        "df = ndof_neq(n1, n2, s1, s2)\n",
        "sm = sem_neq(n1, n2, s1, s2)\n",
        "\n",
        "tvalue = (xbar1 - xbar2)/sm\n",
        "\n",
        "print(\"Unequal variances:\")\n",
        "print (\"DF, T= \", df, tvalue)\n",
        "\n",
        "tdist = stats.t(df)\n",
        "pvalue = 2*tdist.cdf(-np.abs(tvalue))\n",
        "\n",
        "tlow = tdist.ppf(alpha/2)\n",
        "thigh = tdist.ppf(1-alpha/2)\n",
        "\n",
        "print(\"pvalue = \", pvalue)\n",
        "print(\"tcritical = \", thigh, tlow)\n",
        "\n",
        "if (pvalue < alpha):\n",
        "  print(\"reject null hypothesis... pvalue is less than alpha\")\n",
        "else:\n",
        "  print(\"fail to reject null hyp. ... pvalue is greater than alpha\")\n",
        "\n",
        "\n",
        "print()\n",
        "print(\"Python stats package result (unequal variances):\")\n",
        "t, pVal = stats.ttest_ind_from_stats(xbar1, s1, n1, xbar2, s2, n2, equal_var=False)\n",
        "print(\"t-value = \", t, pVal)"
      ],
      "execution_count": null,
      "outputs": [
        {
          "output_type": "stream",
          "text": [
            "Unequal variances:\n",
            "DF, T=  13 -3.9696027817594794\n",
            "pvalue =  0.0016012166745239078\n",
            "tcritical =  2.1603686564610127 -2.160368656461013\n",
            "reject null hypothesis... pvalue is less than alpha\n",
            "\n",
            "Python stats package result (unequal variances):\n",
            "t-value =  -3.9696027817594794 0.0014778918647763437\n"
          ],
          "name": "stdout"
        }
      ]
    },
    {
      "cell_type": "code",
      "metadata": {
        "id": "U6l2rUbpgvlc",
        "outputId": "f1280c69-b5fc-4ee9-b48a-83e8a77f99fd",
        "colab": {
          "base_uri": "https://localhost:8080/",
          "height": 34
        }
      },
      "source": [
        "#Q5\n",
        "\n",
        "dataU = np.array([33.4,  \n",
        "  55.0,  \n",
        "  57.9,  \n",
        "  38.7,  \n",
        "  42.2,  \n",
        "  48.8,  \n",
        "  24.4,  \n",
        "  49.8])\n",
        "\n",
        "dataA = np.array([20.1,  \n",
        "  20.0,  \n",
        "  44.7,  \n",
        "  34.5,  \n",
        "  32.6,  \n",
        "  52.5,  \n",
        "  22.2,  \n",
        "  46.5])\n",
        "\n",
        "diff = dataU - dataA\n",
        "xbar = diff.mean()\n",
        "sem = stats.sem(diff)\n",
        "df = len(diff) - 1\n",
        "mu = 0\n",
        "tvalue = (xbar - mu)/sem\n",
        "print (\"T value from diff data = \", tvalue)\n"
      ],
      "execution_count": 12,
      "outputs": [
        {
          "output_type": "stream",
          "text": [
            "T value from diff data =  2.3129089723024205\n"
          ],
          "name": "stdout"
        }
      ]
    },
    {
      "cell_type": "code",
      "metadata": {
        "id": "5PX0YY9Bgvpt",
        "outputId": "5faa9702-f688-429b-8137-1140eba7edb7",
        "colab": {
          "base_uri": "https://localhost:8080/",
          "height": 34
        }
      },
      "source": [
        "#Q6\n",
        "\n",
        "dataM = np.array([10600, 16620, 17300, 15247, 12970, 17260, 13400, 13311, 13630, 13260, \n",
        "         14370, 11442, 15470, 17840, 14070, 14598])\n",
        "\n",
        "dataW = np.array([9494, 13250, 14720, 12123, 10120, 14570, 11220, 11362, 11420, 10910, \n",
        "         12110, 8246, 12590, 15090, 10550, 12493])\n",
        "\n",
        "diff = np.array([1106,3370,2580,3124,2850,2690,2180,1949,2210,2350,2260,3196,2880,2750,\n",
        "        3520,2105])\n",
        "avg_diff = diff.mean()\n",
        "\n",
        "n1 = len(dataM)\n",
        "n2 = len(dataW)\n",
        "\n",
        "dof1 = n1 - 1\n",
        "dof2 = n2 - 1\n",
        "\n",
        "sum1 = 0\n",
        "for i in range(16):\n",
        "  sum1 += (diff[i] - avg_diff)**2\n",
        "d_2 = sum1/15\n",
        "sd = np.sqrt(d_2)\n",
        "fdist = stats.f(dof1, dof2)\n",
        "\n",
        "\n",
        "fhigh = fdist.ppf(1-alpha/2)\n",
        "\n",
        "print(fhigh)\n",
        "\n"
      ],
      "execution_count": 18,
      "outputs": [
        {
          "output_type": "stream",
          "text": [
            "2.8620925304635048\n"
          ],
          "name": "stdout"
        }
      ]
    },
    {
      "cell_type": "code",
      "metadata": {
        "id": "_YqrVpQRgvte",
        "outputId": "71c49053-4b3d-484e-9408-a262ceea1554",
        "colab": {
          "base_uri": "https://localhost:8080/",
          "height": 102
        }
      },
      "source": [
        "#Q7\n",
        "\n",
        "def fpvalue(fvalue, dof1, dof2, test):\n",
        "  fdist = stats.f(dof1, dof2)\n",
        "\n",
        "  if (fvalue > 1):\n",
        "    if test == \"upper\":\n",
        "      pvalue = (1 - fdist .cdf(fvalue))\n",
        "    if test == \"two\":\n",
        "      pvalue = 2.0*(1-fdist.cdf(fvalue))\n",
        "    if test == \"lower\":\n",
        "      pvalue = fdist.cdf(fvalue)\n",
        "  else:\n",
        "    if test == \"upper\":\n",
        "      pvalue = (fdist .cdf(fvalue))\n",
        "    if test == \"two\":\n",
        "      pvalue = 2.0*(fdist.cdf(fvalue))\n",
        "    if test == \"lower\":\n",
        "      pvalue = (1 - fdist.cdf(fvalue))\n",
        "  print(\"pvalue = \", pvalue)\n",
        "\n",
        "\n",
        "fvalue = 5.64\n",
        "dof1 = 5\n",
        "dof2 = 10\n",
        "test = \"upper\"\n",
        "\n",
        "fpvalue(fvalue, dof1, dof2, test)\n",
        "\n",
        "fvalue = 2.52\n",
        "dof1 = 5\n",
        "dof2 = 10\n",
        "test = \"upper\"\n",
        "\n",
        "fpvalue(fvalue, dof1, dof2, test)\n",
        "\n",
        "fvalue = 3.33\n",
        "dof1 = 5\n",
        "dof2 = 10\n",
        "test = \"two\"\n",
        "\n",
        "fpvalue(fvalue, dof1, dof2, test)\n",
        "\n",
        "fvalue = 10.48\n",
        "dof1 = 5\n",
        "dof2 = 10\n",
        "test = \"lower\"\n",
        "\n",
        "fpvalue(fvalue, dof1, dof2, test)\n",
        "\n",
        "fvalue = 2.69\n",
        "dof1 = 40\n",
        "dof2 = 20\n",
        "test = \"upper\"\n",
        "\n",
        "fpvalue(fvalue, dof1, dof2, test)"
      ],
      "execution_count": 15,
      "outputs": [
        {
          "output_type": "stream",
          "text": [
            "pvalue =  0.009977978750463246\n",
            "pvalue =  0.10015019117571611\n",
            "pvalue =  0.0996625515944427\n",
            "pvalue =  0.9989997238692733\n",
            "pvalue =  0.010104018583015906\n"
          ],
          "name": "stdout"
        }
      ]
    },
    {
      "cell_type": "code",
      "metadata": {
        "id": "v8dlPx3VgvxY",
        "outputId": "da2494ff-a183-4bf0-8a01-06a3053a4299",
        "colab": {
          "base_uri": "https://localhost:8080/",
          "height": 85
        }
      },
      "source": [
        "#q8\n",
        "\n",
        "yf = np.array([36,\t27,\t33,\t33,\t27,\t27,\t28,\t30,\t34,\t35])\n",
        "of = np.array([19,\t14,\t17,\t14,\t17])\n",
        "\n",
        "n1 = len(yf)\n",
        "n2 = len(of)\n",
        "\n",
        "dof1 = n1 - 1\n",
        "dof2 = n2 - 1\n",
        "\n",
        "s1 = yf.std(ddof=1)\n",
        "s2 = of.std(ddof=1)\n",
        "\n",
        "xbar1 = yf.mean()\n",
        "xbar2 = of.mean()\n",
        "\n",
        "fvalue = s1**2/s2**2\n",
        "\n",
        "print (\"std of two samples: \", (s1, s2))\n",
        "print (\"variances of two samples: \", (s1**2, s2**2))\n",
        "print (\"f statistic: \", fvalue)\n",
        "\n",
        "alpha = 0.05\n",
        "\n",
        "fdist = stats.f(dof1, dof2)\n",
        "flow = fdist.ppf(alpha/2)\n",
        "fhigh = fdist.ppf(1-alpha/2)\n",
        "\n",
        "if (fvalue > 1):\n",
        "  pvalue = 2.0*(1 - fdist.cdf(fvalue))\n",
        "else:\n",
        "  pvalue = 2.0*(fdist.cdf(fvalue))\n",
        "print(\"pvalue: \", pvalue)"
      ],
      "execution_count": 16,
      "outputs": [
        {
          "output_type": "stream",
          "text": [
            "std of two samples:  (3.5901098714230026, 2.16794833886788)\n",
            "variances of two samples:  (12.88888888888889, 4.7)\n",
            "f statistic:  2.7423167848699763\n",
            "pvalue:  0.34410359481709807\n"
          ],
          "name": "stdout"
        }
      ]
    },
    {
      "cell_type": "code",
      "metadata": {
        "id": "ygVHYUDGgwA4"
      },
      "source": [
        "#q9"
      ],
      "execution_count": null,
      "outputs": []
    }
  ]
}