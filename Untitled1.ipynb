{
  "nbformat": 4,
  "nbformat_minor": 0,
  "metadata": {
    "colab": {
      "name": "Untitled1.ipynb",
      "provenance": [],
      "collapsed_sections": [],
      "authorship_tag": "ABX9TyPUj2Gf9iMKk1qqfZsOSDDW",
      "include_colab_link": true
    },
    "kernelspec": {
      "name": "python3",
      "display_name": "Python 3"
    }
  },
  "cells": [
    {
      "cell_type": "markdown",
      "metadata": {
        "id": "view-in-github",
        "colab_type": "text"
      },
      "source": [
        "<a href=\"https://colab.research.google.com/github/chandlereskey17/327_proj1_make/blob/master/Untitled1.ipynb\" target=\"_parent\"><img src=\"https://colab.research.google.com/assets/colab-badge.svg\" alt=\"Open In Colab\"/></a>"
      ]
    },
    {
      "cell_type": "code",
      "metadata": {
        "id": "cMukaF4LapQx"
      },
      "source": [
        "#Q1\n",
        "\n",
        "import scipy.stats as stats\n",
        "import numpy as np\n",
        "\n",
        "alpha = 0.10\n",
        "df = 19\n",
        "\n",
        "T = stats.t(df)\n",
        "\n",
        "print(\"a: $.2f\" % (T.ppf(1-alpha)))\n",
        "\n",
        "alpha = 0.05\n",
        "print(\"a: $.2f\" % (T.ppf(1-alpha)))\n",
        "\n",
        "df = 29\n",
        "T = stats.t(df)\n",
        "print(\"a: $.2f\" % (T.ppf(1-alpha)))\n",
        "\n",
        "df = 50\n",
        "T = stats.t(df)\n",
        "print(\"a: $.2f\" % (T.ppf(1-alpha)))"
      ],
      "execution_count": null,
      "outputs": []
    },
    {
      "cell_type": "code",
      "metadata": {
        "id": "3xCbCQs5aqgE"
      },
      "source": [
        "#Q2\n",
        "\n",
        "df = 10 \n",
        "T = stats.t(df)\n",
        "central_area = 0.95\n",
        "alpa = 1 - central_area\n",
        "\n",
        "print(\"a: %.3f\" % (T.ppf(1-alpha/2)))\n",
        "\n",
        "df = 30\n",
        "T = stats.t(df)\n",
        "central_area = 0.95\n",
        "alpha = 1 - central_area\n",
        "\n",
        "print(\"b: %.3f\" % (T.ppf(1-alpha/2)))\n",
        "\n",
        "df = 30\n",
        "T = stats.t(df)\n",
        "central_area = 0.99\n",
        "alpha = 1 - central_area\n",
        "\n",
        "print(\"c: %.3f\" % (T.ppf(1-alpha/2)))\n",
        "\n",
        "\n",
        "#look in photos"
      ],
      "execution_count": null,
      "outputs": []
    },
    {
      "cell_type": "code",
      "metadata": {
        "id": "CdHVYYBeaquy"
      },
      "source": [
        "#Q3\n",
        "\n",
        "df = 17 \n",
        "T = stats.t(df)\n",
        "cl = 0.95\n",
        "alpha = 1 - cl\n",
        "\n",
        "print(\"a: %.3f\" % (T.ppf(1 - alpha/2)))\n",
        "\n",
        "df = 18\n",
        "T = stats.t(df)\n",
        "cl = 0.95\n",
        "alpha = 1 - cl\n",
        "\n",
        "print(\"b: %.3f\" % (T.ppf(1 - alpha/2)))\n",
        "\n",
        "df = 18 \n",
        "T = stats.t(df)\n",
        "cl = 0.99\n",
        "alpha = 1 - cl\n",
        "\n",
        "print(\"a: %.3f\" % (T.ppf(1 - alpha/2)))"
      ],
      "execution_count": null,
      "outputs": []
    },
    {
      "cell_type": "code",
      "metadata": {
        "id": "dB5dttcmaqyy"
      },
      "source": [
        "#Q4\n",
        "\n",
        "n = 8\n",
        "df = n - 1\n",
        "xbar = 32.6\n",
        "s = 3.3\n",
        "\n",
        "cl = 0.95\n",
        "alpha = 1 - cl\n",
        "\n",
        "sem = s/np.sqrt(n)\n",
        "\n",
        "thigh = stats.t.ppf(1-alpha/2,df)\n",
        "tlow = stats.t.ppf(alpha/2, df)\n",
        "\n",
        "clow = xbar + tlow*sem\n",
        "chigh = xbar + thigh*sem\n",
        "\n",
        "print(\"(%0.2f, %0.2f)\" % (clow, chigh))\n",
        "\n",
        "#another way\n",
        "c_interval = stats.t.interval(0.95 ,df, loc=xbar, scale=sem)\n",
        "\n",
        "print(\"(%0.2f, %0.2f)\" % c_interval)"
      ],
      "execution_count": null,
      "outputs": []
    },
    {
      "cell_type": "code",
      "metadata": {
        "id": "2Hp_FI-saq1f"
      },
      "source": [
        "#Q5\n",
        "\n",
        "n = 14\n",
        "df = n - 1\n",
        "xbar = 8.06\n",
        "a = 0.66\n",
        "\n",
        "sem = a/np.sqrt(n)\n",
        "\n",
        "cl = 0.90\n",
        "\n",
        "c_interval = stats.t.interval(cl, df, loc=xbar,scale=sem)\n",
        "\n",
        "print(\"(%0.2f, %0.2f)\" % c_interval)\n",
        "\n",
        "a_future = a*np.sqrt((n+1)/n)\n",
        "\n",
        "c_interval = stats.t.interval(cl, df, loc=xbar,scale=a_future)\n",
        "\n",
        "print(\"(%0.2f, %0.2f)\" % c_interval)"
      ],
      "execution_count": null,
      "outputs": []
    },
    {
      "cell_type": "code",
      "metadata": {
        "id": "JcXHDzgfaq4f"
      },
      "source": [
        "#Q6\n",
        "\n"
      ],
      "execution_count": null,
      "outputs": []
    },
    {
      "cell_type": "code",
      "metadata": {
        "id": "S4D8Fjaraq7u"
      },
      "source": [
        "#Q7\n",
        "\n"
      ],
      "execution_count": null,
      "outputs": []
    },
    {
      "cell_type": "code",
      "metadata": {
        "id": "gL_id7kEaq-Q"
      },
      "source": [
        "#Q8\n",
        "\n",
        "n = 9\n",
        "df = n - 1\n",
        "s = 2.86\n",
        "cl = 0.95\n",
        "c_interval = stats.chi2.interval(cl,df)\n",
        "\n",
        "print(\"chi2 interval: (%0.2f, %0.2f)\" % (c_interval))\n",
        "\n",
        "var_high = df*s**2/c_interval[0]\n",
        "var_low = df*s**2/c_interval[1]\n",
        "\n",
        "print(\"Variance interval: (%0.2f, %0.2f)\" % (var_low, var_high))\n",
        "print(\"STD Deviation interval: (%0.2f, %0.2f)\" % (np.sqrt(var_low), np.sqrt(var_high)))"
      ],
      "execution_count": null,
      "outputs": []
    },
    {
      "cell_type": "code",
      "metadata": {
        "id": "sQ91vWgTarA8"
      },
      "source": [
        "#Q9\n",
        "\n",
        "data = np.array([]) #fill\n",
        "\n",
        "print(data.mean(),data.std(ddof = 1))\n",
        "\n",
        "n = len(data)\n",
        "df = n - 1\n",
        "s = data.std(ddof = 1)\n",
        "cl 0.99\n",
        "\n",
        "print(\"chi2 interval: (%0.2f, %0.2f)\" % (c_interval))\n",
        "\n",
        "var_high = df*s**2/c_interval[0]\n",
        "var_low = df*s**2/c_interval[1]\n",
        "\n",
        "print(\"STD Deviation interval: (%0.2f, %0.2f)\" % (np.sqrt(var_low), np.sqrt(var_high)))"
      ],
      "execution_count": null,
      "outputs": []
    },
    {
      "cell_type": "code",
      "metadata": {
        "id": "5qmlq7CTarDx"
      },
      "source": [
        "#Q10\n",
        "\n",
        "n = 25\n",
        "sigma = 100\n",
        "xbar = 8312\n",
        "cl = 0.90\n",
        "\n",
        "sem = sigma/np.sqrt(n) #standard error mean\n",
        "c_interval = stats.norm.interval(cl,loc=0,scale=1)\n",
        "\n",
        "print(\"Z Interval: (%0.2f, %0.2f)\" % c_interval)\n",
        "\n",
        "c_interval = stats.norm.interval(cl,loc=xbar,scale=sem)\n",
        "\n",
        "print(\"confidence level: (%0.2f, %0.2f)\" % c_interval)\n",
        "\n",
        "cl = 0.92\n",
        "\n",
        "c_interval = stats.norm.interval(cl,loc=0,scale=1)\n",
        "\n",
        "print(\"Z Interval: (%0.2f, %0.2f)\" % c_interval)\n",
        "\n",
        "c_interval = stats.norm.interval(cl,loc=0,scale=1)"
      ],
      "execution_count": null,
      "outputs": []
    }
  ]
}