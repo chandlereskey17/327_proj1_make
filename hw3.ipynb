{
  "nbformat": 4,
  "nbformat_minor": 0,
  "metadata": {
    "colab": {
      "name": "Untitled1.ipynb",
      "provenance": [],
      "collapsed_sections": [],
      "authorship_tag": "ABX9TyPsjkriUFRZB8ChXvbxJqJq",
      "include_colab_link": true
    },
    "kernelspec": {
      "name": "python3",
      "display_name": "Python 3"
    }
  },
  "cells": [
    {
      "cell_type": "markdown",
      "metadata": {
        "id": "view-in-github",
        "colab_type": "text"
      },
      "source": [
        "<a href=\"https://colab.research.google.com/github/chandlereskey17/327_proj1_make/blob/master/hw3.ipynb\" target=\"_parent\"><img src=\"https://colab.research.google.com/assets/colab-badge.svg\" alt=\"Open In Colab\"/></a>"
      ]
    },
    {
      "cell_type": "code",
      "metadata": {
        "id": "cMukaF4LapQx"
      },
      "source": [
        "#Q1\n",
        "\n",
        "import scipy.stats as stats\n",
        "import numpy as np\n",
        "\n",
        "alpha = 0.10\n",
        "df = 19\n",
        "\n",
        "T = stats.t(df)\n",
        "\n",
        "print(\"a: $.2f\" % (T.ppf(1-alpha)))\n",
        "\n",
        "alpha = 0.05\n",
        "print(\"a: $.2f\" % (T.ppf(1-alpha)))\n",
        "\n",
        "df = 29\n",
        "T = stats.t(df)\n",
        "print(\"a: $.2f\" % (T.ppf(1-alpha)))\n",
        "\n",
        "df = 50\n",
        "T = stats.t(df)\n",
        "print(\"a: $.2f\" % (T.ppf(1-alpha)))"
      ],
      "execution_count": null,
      "outputs": []
    },
    {
      "cell_type": "code",
      "metadata": {
        "id": "3xCbCQs5aqgE"
      },
      "source": [
        "#Q2\n",
        "\n",
        "df = 10 \n",
        "T = stats.t(df)\n",
        "central_area = 0.95\n",
        "alpa = 1 - central_area\n",
        "\n",
        "print(\"a: %.3f\" % (T.ppf(1-alpha/2)))\n",
        "\n",
        "df = 30\n",
        "T = stats.t(df)\n",
        "central_area = 0.95\n",
        "alpha = 1 - central_area\n",
        "\n",
        "print(\"b: %.3f\" % (T.ppf(1-alpha/2)))\n",
        "\n",
        "df = 30\n",
        "T = stats.t(df)\n",
        "central_area = 0.99\n",
        "alpha = 1 - central_area\n",
        "\n",
        "print(\"c: %.3f\" % (T.ppf(1-alpha/2)))\n",
        "\n",
        "\n",
        "#look in photos"
      ],
      "execution_count": null,
      "outputs": []
    },
    {
      "cell_type": "code",
      "metadata": {
        "id": "CdHVYYBeaquy"
      },
      "source": [
        "#Q3\n",
        "\n",
        "df = 17 \n",
        "T = stats.t(df)\n",
        "cl = 0.95\n",
        "alpha = 1 - cl\n",
        "\n",
        "print(\"a: %.3f\" % (T.ppf(1 - alpha/2)))\n",
        "\n",
        "df = 18\n",
        "T = stats.t(df)\n",
        "cl = 0.95\n",
        "alpha = 1 - cl\n",
        "\n",
        "print(\"b: %.3f\" % (T.ppf(1 - alpha/2)))\n",
        "\n",
        "df = 18 \n",
        "T = stats.t(df)\n",
        "cl = 0.99\n",
        "alpha = 1 - cl\n",
        "\n",
        "print(\"a: %.3f\" % (T.ppf(1 - alpha/2)))"
      ],
      "execution_count": null,
      "outputs": []
    },
    {
      "cell_type": "code",
      "metadata": {
        "id": "dB5dttcmaqyy"
      },
      "source": [
        "#Q4\n",
        "\n",
        "n = 8\n",
        "df = n - 1\n",
        "xbar = 32.6\n",
        "s = 3.3\n",
        "\n",
        "cl = 0.95\n",
        "alpha = 1 - cl\n",
        "\n",
        "sem = s/np.sqrt(n)\n",
        "\n",
        "thigh = stats.t.ppf(1-alpha/2,df)\n",
        "tlow = stats.t.ppf(alpha/2, df)\n",
        "\n",
        "clow = xbar + tlow*sem\n",
        "chigh = xbar + thigh*sem\n",
        "\n",
        "print(\"(%0.2f, %0.2f)\" % (clow, chigh))\n",
        "\n",
        "#another way\n",
        "c_interval = stats.t.interval(0.95 ,df, loc=xbar, scale=sem)\n",
        "\n",
        "print(\"(%0.2f, %0.2f)\" % c_interval)"
      ],
      "execution_count": null,
      "outputs": []
    },
    {
      "cell_type": "code",
      "metadata": {
        "id": "2Hp_FI-saq1f",
        "outputId": "5c0f2f6b-5706-48fd-d2ff-977425b9be00",
        "colab": {
          "base_uri": "https://localhost:8080/",
          "height": 51
        }
      },
      "source": [
        "#Q5\n",
        "\n",
        "import scipy.stats as stats\n",
        "import numpy as np\n",
        "\n",
        "n = 14\n",
        "df = n - 1\n",
        "xbar = 7.86\n",
        "a = 0.80\n",
        "\n",
        "sem = a/np.sqrt(n)\n",
        "\n",
        "cl = 0.90\n",
        "\n",
        "c_interval = stats.t.interval(cl, df, loc=xbar,scale=sem)\n",
        "\n",
        "print(\"(%0.2f, %0.2f)\" % c_interval)\n",
        "\n",
        "a_future = a*np.sqrt((n+1)/n)\n",
        "\n",
        "c_interval = stats.t.interval(cl, df, loc=xbar,scale=a_future)\n",
        "\n",
        "print(\"(%0.2f, %0.2f)\" % c_interval)"
      ],
      "execution_count": 5,
      "outputs": [
        {
          "output_type": "stream",
          "text": [
            "(7.48, 8.24)\n",
            "(6.39, 9.33)\n"
          ],
          "name": "stdout"
        }
      ]
    },
    {
      "cell_type": "code",
      "metadata": {
        "id": "JcXHDzgfaq4f",
        "outputId": "f11460df-542c-492f-fc8c-a637ee80bdbc",
        "colab": {
          "base_uri": "https://localhost:8080/",
          "height": 51
        }
      },
      "source": [
        "#Q6\n",
        "import scipy.stats as stats\n",
        "import numpy as np\n",
        "\n",
        "n = 14\n",
        "x = 25.4\n",
        "s = 3.4\n",
        "cl = 0.95\n",
        "df = n - 1\n",
        "sem = s/np.sqrt(n)\n",
        "c_interval = stats.t.interval(cl, df, loc=x, scale=sem)\n",
        "print(\"6a:\", c_interval)\n",
        "\n",
        "s_future = s*np.sqrt((n+1)/n)\n",
        "c_interval = stats.t.interval(cl, df, loc=x, scale=s_future)\n",
        "print(\"6b:\", c_interval)"
      ],
      "execution_count": 3,
      "outputs": [
        {
          "output_type": "stream",
          "text": [
            "6a: (23.436898445610883, 27.363101554389115)\n",
            "6b: (17.79694037293706, 33.00305962706294)\n"
          ],
          "name": "stdout"
        }
      ]
    },
    {
      "cell_type": "code",
      "metadata": {
        "id": "S4D8Fjaraq7u",
        "outputId": "8744cded-c089-476e-b051-896816d735c1",
        "colab": {
          "base_uri": "https://localhost:8080/",
          "height": 85
        }
      },
      "source": [
        "#Q7\n",
        "\n",
        "print(\"7a:\", stats.chi2.ppf(0.9, 14))\n",
        "print(\"7a:\", stats.chi2.ppf(0.01, 8))\n",
        "print(\"7a:\", stats.chi2.cdf(38.89, 26)- stats.chi2.cdf(11.16, 26))\n",
        "print(\"7a:\", 1 - stats.chi2.cdf(37.652, 25) + stats.chi2.cdf(11.524, 25))"
      ],
      "execution_count": 11,
      "outputs": [
        {
          "output_type": "stream",
          "text": [
            "7a: 21.064144212997064\n",
            "7a: 1.6464973726907703\n",
            "7a: 0.945054115500633\n",
            "7a: 0.06000554530796735\n"
          ],
          "name": "stdout"
        }
      ]
    },
    {
      "cell_type": "code",
      "metadata": {
        "id": "gL_id7kEaq-Q",
        "outputId": "db6b0559-ac81-4160-c12e-7bbd4f9a4bca",
        "colab": {
          "base_uri": "https://localhost:8080/",
          "height": 68
        }
      },
      "source": [
        "#Q8\n",
        "\n",
        "n = 5\n",
        "df = n - 1\n",
        "s = 2.84\n",
        "cl = 0.95\n",
        "c_interval = stats.chi2.interval(cl,df)\n",
        "\n",
        "print(\"chi2 interval: (%0.2f, %0.2f)\" % (c_interval))\n",
        "\n",
        "var_high = df*s**2/c_interval[0]\n",
        "var_low = df*s**2/c_interval[1]\n",
        "\n",
        "print(\"Variance interval: (%0.2f, %0.2f)\" % (var_low, var_high))\n",
        "print(\"STD Deviation interval: (%0.2f, %0.2f)\" % (np.sqrt(var_low), np.sqrt(var_high)))"
      ],
      "execution_count": 4,
      "outputs": [
        {
          "output_type": "stream",
          "text": [
            "chi2 interval: (0.48, 11.14)\n",
            "Variance interval: (2.90, 66.60)\n",
            "STD Deviation interval: (1.70, 8.16)\n"
          ],
          "name": "stdout"
        }
      ]
    },
    {
      "cell_type": "code",
      "metadata": {
        "id": "sQ91vWgTarA8",
        "outputId": "c6ca5a33-af9c-4625-9913-68a0bc3fa540",
        "colab": {
          "base_uri": "https://localhost:8080/",
          "height": 51
        }
      },
      "source": [
        "#Q9\n",
        "\n",
        "data = np.array([68.6,\t71.9,\t72.6,\t73.1,\t73.3,\t73.5,\t75.5,\t75.7,\t75.8,\t76.1,\t76.2,\n",
        "76.2,\t77.0,\t77.9,\t78.1,\t79.6,\t79.9,\t79.9,\t80.1,\t82.2,\t83.7,\t93.1\n",
        "]) #fill\n",
        "\n",
        "n = len(data)\n",
        "df = n - 1\n",
        "s = data.std(ddof = 1)\n",
        "cl = 0.99\n",
        "\n",
        "c_interval = stats.chi2.interval(cl,df)\n",
        "\n",
        "print(\"chi2 interval: (%0.2f, %0.2f)\" % (c_interval))\n",
        "\n",
        "var_high = df*s**2/c_interval[0]\n",
        "var_low = df*s**2/c_interval[1]\n",
        "\n",
        "print(\"STD Deviation interval: (%0.2f, %0.2f)\" % (np.sqrt(var_low), np.sqrt(var_high)))"
      ],
      "execution_count": 7,
      "outputs": [
        {
          "output_type": "stream",
          "text": [
            "chi2 interval: (8.03, 41.40)\n",
            "STD Deviation interval: (3.58, 8.12)\n"
          ],
          "name": "stdout"
        }
      ]
    },
    {
      "cell_type": "code",
      "metadata": {
        "id": "5qmlq7CTarDx"
      },
      "source": [
        "#Q10\n",
        "\n",
        "n = 25\n",
        "sigma = 100\n",
        "xbar = 8312\n",
        "cl = 0.90\n",
        "\n",
        "sem = sigma/np.sqrt(n) #standard error mean\n",
        "c_interval = stats.norm.interval(cl,loc=0,scale=1)\n",
        "\n",
        "print(\"Z Interval: (%0.2f, %0.2f)\" % c_interval)\n",
        "\n",
        "c_interval = stats.norm.interval(cl,loc=xbar,scale=sem)\n",
        "\n",
        "print(\"confidence level: (%0.2f, %0.2f)\" % c_interval)\n",
        "\n",
        "cl = 0.92\n",
        "\n",
        "c_interval = stats.norm.interval(cl,loc=0,scale=1)\n",
        "\n",
        "print(\"Z Interval: (%0.2f, %0.2f)\" % c_interval)\n",
        "\n",
        "c_interval = stats.norm.interval(cl,loc=0,scale=1)"
      ],
      "execution_count": null,
      "outputs": []
    }
  ]
}